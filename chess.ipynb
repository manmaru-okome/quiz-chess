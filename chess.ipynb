{
  "nbformat": 4,
  "nbformat_minor": 0,
  "metadata": {
    "colab": {
      "provenance": [],
      "authorship_tag": "ABX9TyNihnryaq4mYuu7T3JD7K/U",
      "include_colab_link": true
    },
    "kernelspec": {
      "name": "python3",
      "display_name": "Python 3"
    },
    "language_info": {
      "name": "python"
    }
  },
  "cells": [
    {
      "cell_type": "markdown",
      "metadata": {
        "id": "view-in-github",
        "colab_type": "text"
      },
      "source": [
        "<a href=\"https://colab.research.google.com/github/manmaru-okome/quiz-chess/blob/main/chess.ipynb\" target=\"_parent\"><img src=\"https://colab.research.google.com/assets/colab-badge.svg\" alt=\"Open In Colab\"/></a>"
      ]
    },
    {
      "cell_type": "code",
      "execution_count": null,
      "metadata": {
        "colab": {
          "base_uri": "https://localhost:8080/"
        },
        "id": "6K_lx7nE2394",
        "outputId": "1fc60f31-afcc-4335-ca9f-e0067b0f50c1"
      },
      "outputs": [
        {
          "output_type": "stream",
          "name": "stdout",
          "text": [
            "=== 悪魔のターン ===\n",
            "X, X, O, X, X, X, O, X, \n",
            "O, X, X, X, X, O, X, X, \n",
            "O, X, X, O, O, O, O, O, \n",
            "X, X, O, X, X, O, X, O, \n",
            "O, X, X, O, O, X, O, X, \n",
            "X, X, X, X, X, X, X, X, \n",
            "O, X, O, X, X, X, X, X, \n",
            "O, O, O, X, X, X, X, O, \n",
            "\n",
            "悪魔の数字: 6\n",
            "\n",
            "=== Aのターン ===\n",
            "○の排他的論理和: 29\n",
            "反転させる値: 27\n",
            "\n",
            "=== Bのターン ===\n",
            "○の排他的論理和: 6\n",
            "Answer: 6\n"
          ]
        }
      ],
      "source": [
        "import random\n",
        "\n",
        "def initialized():\n",
        "  \"\"\"盤面を作成する\"\"\"\n",
        "  map = {}\n",
        "\n",
        "  for i in range(0, MASU, 1):\n",
        "    if random.choice([True, False]):\n",
        "      map[i] = \"O\"\n",
        "    else:\n",
        "      map[i] = \"X\"\n",
        "  return map\n",
        "\n",
        "def view_map(map):\n",
        "  \"\"\"盤面を表示する\"\"\"\n",
        "  string = \"\"\n",
        "  for num, pawn in map.items():\n",
        "    string += f\"{pawn}, \"\n",
        "    if (num + 1) % SIZE == 0:\n",
        "      string += \"\\n\"\n",
        "  print(string)\n",
        "\n",
        "def calculate_xnor(map):\n",
        "  \"\"\"Oとなっているマス目の排他的論理和を計算する\n",
        "  \"\"\"\n",
        "  result = 0\n",
        "  for num, pawn in map.items():\n",
        "    if pawn == \"O\":\n",
        "      result = result ^ num\n",
        "\n",
        "  return result\n",
        "\n",
        "def update_map(map, index):\n",
        "  \"\"\"indexの位置にあるO,Xを反転させる\"\"\"\n",
        "  if map[index] == \"X\":\n",
        "    map[index] = \"O\"\n",
        "  else:\n",
        "    map[index] = \"X\"\n",
        "  \n",
        "  return map\n",
        "\n",
        "def main():\n",
        "  print(\"=== 悪魔のターン ===\")\n",
        "  map = initialized()\n",
        "  view_map(map)\n",
        "  MAGIC_NUMBER = random.randint(1, MASU)\n",
        "  print(f\"悪魔の数字: {MAGIC_NUMBER}\")\n",
        "\n",
        "  \n",
        "  print(\"\\n=== Aのターン ===\")\n",
        "  xnor_value = calculate_xnor(map)\n",
        "\n",
        "  print(f\"○の排他的論理和: {xnor_value}\")\n",
        "\n",
        "  target_value = MAGIC_NUMBER ^ xnor_value\n",
        "  print(f\"反転させる値: {target_value}\")\n",
        "\n",
        "  map_updated = update_map(map, target_value)\n",
        "\n",
        "  print(\"\\n=== Bのターン ===\")\n",
        "  result = calculate_xnor(map_updated)\n",
        "\n",
        "  print(f\"○の排他的論理和: {result}\")\n",
        "\n",
        "  print(f\"Answer: {result}\")\n",
        "\n",
        "\n",
        "SIZE = 8\n",
        "MASU = SIZE * SIZE\n",
        "main()\n"
      ]
    },
    {
      "cell_type": "code",
      "source": [
        "32*32\n",
        "\n"
      ],
      "metadata": {
        "colab": {
          "base_uri": "https://localhost:8080/"
        },
        "id": "Hs6wpvMJ_Wc4",
        "outputId": "a4a5ec3e-e8f5-4005-a327-9c3a41818117"
      },
      "execution_count": null,
      "outputs": [
        {
          "output_type": "execute_result",
          "data": {
            "text/plain": [
              "1024"
            ]
          },
          "metadata": {},
          "execution_count": 180
        }
      ]
    },
    {
      "cell_type": "code",
      "source": [],
      "metadata": {
        "id": "asai_x2QLsuy"
      },
      "execution_count": null,
      "outputs": []
    }
  ]
}